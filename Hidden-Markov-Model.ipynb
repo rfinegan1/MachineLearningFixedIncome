{
 "cells": [
  {
   "cell_type": "code",
   "execution_count": 1,
   "metadata": {},
   "outputs": [
    {
     "name": "stderr",
     "output_type": "stream",
     "text": [
      "Using TensorFlow backend.\n"
     ]
    }
   ],
   "source": [
    "from __future__ import absolute_import, division, print_function, unicode_literals\n",
    "import numpy as np\n",
    "import pandas as pd\n",
    "import matplotlib.pyplot as plt\n",
    "import datetime as dt\n",
    "import pandas_datareader.data as web\n",
    "import math\n",
    "import ta\n",
    "import keras\n",
    "from sklearn.preprocessing import MinMaxScaler\n",
    "import tensorflow as tf\n",
    "import tensorflow_probability as tfp\n",
    "import tensorflow.compat.v2.feature_column as fc\n",
    "from keras.models import Sequential, Model\n",
    "from keras.layers import Dense, LSTM, Dropout, BatchNormalization, Concatenate\n",
    "from keras import optimizers\n",
    "from keras.utils import plot_model\n",
    "import matplotlib.pyplot as plt\n",
    "from ta.utils import dropna\n",
    "from six.moves import urllib\n",
    "from IPython.display import clear_output\n",
    "import warnings\n",
    "warnings.filterwarnings('ignore')"
   ]
  },
  {
   "cell_type": "markdown",
   "metadata": {},
   "source": [
    "# Hidden Markov Model "
   ]
  },
  {
   "cell_type": "code",
   "execution_count": 2,
   "metadata": {},
   "outputs": [
    {
     "name": "stdout",
     "output_type": "stream",
     "text": [
      "Ticker: evri\n",
      "Days: 200\n"
     ]
    },
    {
     "data": {
      "text/plain": [
       "target\n",
       "0    0.507353\n",
       "1    0.492647\n",
       "dtype: float64"
      ]
     },
     "execution_count": 2,
     "metadata": {},
     "output_type": "execute_result"
    }
   ],
   "source": [
    "###dataframe of the stock\n",
    "ticker = input('Ticker: ')\n",
    "days = input('Days: ')\n",
    "def dfStock(ticker,start,end):\n",
    "    data = web.DataReader(ticker.upper(),'yahoo',start,end)[['Adj Close']]\n",
    "    data['Daily Return'] = (data['Adj Close'].pct_change())*100\n",
    "    data['target'] = int(False)\n",
    "    data.loc[data['Daily Return'] > 0, 'target']=int(True)\n",
    "    data['up'] = int(False)\n",
    "    data.loc[data['target'] == 1, 'up']=int(True)\n",
    "    data['down'] = int(False)\n",
    "    data.loc[data['target'] == 0, 'down']=int(True)\n",
    "    data = data.dropna() \n",
    "    data = data[['Adj Close','Daily Return','target','up','down']]\n",
    "    return data\n",
    "###initial probability of having a positive or negative return\n",
    "df = dfStock(ticker,dt.datetime.now()-dt.timedelta(days=int(days)),dt.datetime.now())\n",
    "daily_prob = df.groupby('target').size().div(len(df))\n",
    "daily_prob"
   ]
  },
  {
   "cell_type": "code",
   "execution_count": 3,
   "metadata": {},
   "outputs": [],
   "source": [
    "###transition probability of having a previous positive or negative day    \n",
    "\n",
    "from itertools import islice\n",
    "def window(seq, n=2):\n",
    "    it = iter(seq)\n",
    "    result = tuple(islice(it, n))\n",
    "    if len(result) == n:\n",
    "        yield result\n",
    "    for elem in it:\n",
    "        result = result[1:] + (elem,)\n",
    "        yield result\n",
    "    \n",
    "pairs = pd.DataFrame(window(df['target']), columns=['state1', 'state2'])\n",
    "counts = pairs.groupby('state1')['state2'].value_counts()\n",
    "transition_prob_neg = (counts[0] / counts[0].sum())\n",
    "transition_prob_pos = (counts[1] / counts[1].sum())"
   ]
  },
  {
   "cell_type": "code",
   "execution_count": 4,
   "metadata": {},
   "outputs": [],
   "source": [
    "#mean and standard deviation of up and down days\n",
    "avg = df.groupby('target')['Daily Return'].mean()\n",
    "stdev = df.groupby('target')['Daily Return'].std()"
   ]
  },
  {
   "cell_type": "code",
   "execution_count": 5,
   "metadata": {},
   "outputs": [],
   "source": [
    "tfd = tfp.distributions  \n",
    "#probability of next day being down or up\n",
    "initial_distribution = tfd.Categorical(probs=[daily_prob[0].astype('float32'), daily_prob[1].astype('float32')])  \n",
    "#transition probabilities (one event leading to another) (i.e. if the stock is down what prob of it being the next day)\n",
    "transition_distribution = tfd.Categorical(probs=[[transition_prob_neg[0].astype('float32'), transition_prob_neg[1].astype('float32')],\n",
    "                                                 [transition_prob_pos[0].astype('float32'),transition_prob_pos[1].astype('float32')]])  \n",
    "#mean and std (loc = mean & scale = standard deviation)\n",
    "observation_distribution = tfd.Normal(loc=[avg[0].astype('float32'), avg[1].astype('float32')], scale=[stdev[0].astype('float32'), stdev[1].astype('float32')])  "
   ]
  },
  {
   "cell_type": "code",
   "execution_count": 6,
   "metadata": {},
   "outputs": [],
   "source": [
    "#number of steps is how far we want to predict into the future\n",
    "model = tfd.HiddenMarkovModel(\n",
    "    initial_distribution=initial_distribution,\n",
    "    transition_distribution=transition_distribution,\n",
    "    observation_distribution=observation_distribution,\n",
    "    num_steps=5)"
   ]
  },
  {
   "cell_type": "code",
   "execution_count": 7,
   "metadata": {},
   "outputs": [
    {
     "name": "stdout",
     "output_type": "stream",
     "text": [
      "[0.12176681 0.07500458 0.07398844 0.07396603 0.07396531]\n"
     ]
    }
   ],
   "source": [
    "#prediction for the next 5 days daily returns\n",
    "mean = model.mean()\n",
    "with tf.compat.v1.Session() as sess:  \n",
    "    print(mean.numpy())"
   ]
  }
 ],
 "metadata": {
  "kernelspec": {
   "display_name": "Python 3",
   "language": "python",
   "name": "python3"
  },
  "language_info": {
   "codemirror_mode": {
    "name": "ipython",
    "version": 3
   },
   "file_extension": ".py",
   "mimetype": "text/x-python",
   "name": "python",
   "nbconvert_exporter": "python",
   "pygments_lexer": "ipython3",
   "version": "3.7.4"
  }
 },
 "nbformat": 4,
 "nbformat_minor": 2
}
